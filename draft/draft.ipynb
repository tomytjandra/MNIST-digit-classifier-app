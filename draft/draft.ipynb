{
 "cells": [
  {
   "cell_type": "code",
   "execution_count": 38,
   "source": [
    "from PIL import Image, ImageOps\r\n",
    "import numpy as np\r\n",
    "import matplotlib.pyplot as plt\r\n",
    "\r\n",
    "import torch\r\n",
    "import torch.nn as nn\r\n",
    "import torchvision.transforms as T"
   ],
   "outputs": [],
   "metadata": {}
  },
  {
   "cell_type": "code",
   "execution_count": 39,
   "source": [
    "input_size = 784\r\n",
    "hidden_sizes = [128, 64]\r\n",
    "output_size = 10\r\n",
    "model = nn.Sequential(\r\n",
    "    nn.Linear(input_size, hidden_sizes[0]),\r\n",
    "    nn.ReLU(),\r\n",
    "    nn.Linear(hidden_sizes[0], hidden_sizes[1]),\r\n",
    "    nn.ReLU(),\r\n",
    "    nn.Linear(hidden_sizes[1], output_size),\r\n",
    "    nn.LogSoftmax(dim=1)\r\n",
    "    )\r\n",
    "\r\n",
    "model.load_state_dict(torch.load('model.pt'))"
   ],
   "outputs": [
    {
     "output_type": "execute_result",
     "data": {
      "text/plain": [
       "<All keys matched successfully>"
      ]
     },
     "metadata": {},
     "execution_count": 39
    }
   ],
   "metadata": {}
  },
  {
   "cell_type": "code",
   "execution_count": 65,
   "source": [
    "def predict_proba(image):\r\n",
    "    # load image\r\n",
    "    image = Image.fromarray((image[:, :, 0]).astype(np.uint8))\r\n",
    "    image = image.resize((28, 28))\r\n",
    "    \r\n",
    "    # plt.imshow(image, cmap=\"gray\")\r\n",
    "\r\n",
    "    # convert to tensor\r\n",
    "    transforms = T.ToTensor()\r\n",
    "    tensor = transforms(image)\r\n",
    "\r\n",
    "    # predict\r\n",
    "    with torch.no_grad():\r\n",
    "        output = model(tensor.view(1,-1))\r\n",
    "        prob = torch.exp(output)\r\n",
    "    return prob"
   ],
   "outputs": [],
   "metadata": {}
  },
  {
   "cell_type": "code",
   "execution_count": 66,
   "source": [
    "image = ImageOps.grayscale(Image.open('input.png'))\r\n",
    "prob = predict_proba(np.asarray(image).reshape((300,300,1)))\r\n",
    "prob"
   ],
   "outputs": [
    {
     "output_type": "execute_result",
     "data": {
      "text/plain": [
       "tensor([[1.2678e-03, 5.4249e-01, 2.7087e-01, 1.1132e-02, 6.1076e-06, 1.0173e-03,\n",
       "         7.4035e-02, 1.3481e-03, 9.7829e-02, 6.4960e-06]])"
      ]
     },
     "metadata": {},
     "execution_count": 66
    }
   ],
   "metadata": {}
  },
  {
   "cell_type": "code",
   "execution_count": 67,
   "source": [
    "plt.style.use('seaborn')\r\n",
    "plt.barh(range(0,10), prob.view(-1))\r\n",
    "plt.gca().invert_yaxis()\r\n",
    "plt.yticks(range(0,10))\r\n",
    "plt.title(\"Predicted Probability\", fontweight='bold')"
   ],
   "outputs": [
    {
     "output_type": "execute_result",
     "data": {
      "text/plain": [
       "Text(0.5, 1.0, 'Predicted Probability')"
      ]
     },
     "metadata": {},
     "execution_count": 67
    },
    {
     "output_type": "display_data",
     "data": {
      "text/plain": [
       "<Figure size 576x396 with 1 Axes>"
      ],
      "image/png": "[encoded data removed]"
     },
     "metadata": {}
    }
   ],
   "metadata": {}
  },
  {
   "cell_type": "code",
   "execution_count": null,
   "source": [],
   "outputs": [],
   "metadata": {}
  },
  {
   "cell_type": "code",
   "execution_count": 79,
   "source": [
    "black = Image.open('black.png')\r\n",
    "x = np.asarray(black)\r\n",
    "x.min()"
   ],
   "outputs": [
    {
     "output_type": "execute_result",
     "data": {
      "text/plain": [
       "0"
      ]
     },
     "metadata": {},
     "execution_count": 79
    }
   ],
   "metadata": {}
  }
 ],
 "metadata": {
  "orig_nbformat": 4,
  "language_info": {
   "name": "python",
   "version": "3.8.10",
   "mimetype": "text/x-python",
   "codemirror_mode": {
    "name": "ipython",
    "version": 3
   },
   "pygments_lexer": "ipython3",
   "nbconvert_exporter": "python",
   "file_extension": ".py"
  },
  "kernelspec": {
   "name": "python3",
   "display_name": "Python 3.8.10 64-bit ('pytorch': conda)"
  },
  "interpreter": {
   "hash": "dbb12243bef680bcc85baeb6de7d5ec5e4ec706a589fea6f8d9c599e0e5df0fa"
  }
 },
 "nbformat": 4,
 "nbformat_minor": 2
}